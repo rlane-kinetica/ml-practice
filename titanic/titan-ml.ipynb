{
 "cells": [
  {
   "cell_type": "code",
   "execution_count": 1,
   "metadata": {},
   "outputs": [
    {
     "name": "stdout",
     "output_type": "stream",
     "text": [
      "Based on Class:\n",
      "0.6196172248803827\n",
      "Based on Sex:\n",
      "1.0\n",
      "Based on Class and Sex:\n",
      "0.8277511961722488\n"
     ]
    }
   ],
   "source": [
    "#import data\n",
    "from sklearn.neighbors import KNeighborsClassifier\n",
    "from sklearn.metrics import accuracy_score\n",
    "import pandas as pd\n",
    "#import numpy as np\n",
    "#import matplotlib.pyplot as plt\n",
    "#import seaborn as sns\n",
    "import category_encoders as ce\n",
    "#import random as rnd\n",
    "#sns.set()\n",
    "\n",
    "def run_ml(features):\n",
    "    #create dataframes from files\n",
    "\ttrain_df = pd.read_csv('./train.csv')[features]\n",
    "\ttrain_ans_df = pd.read_csv('./train.csv')['Survived']\n",
    "\ttest_df = pd.read_csv('./test.csv')[features]\n",
    "\ttest_ans_df = pd.read_csv('./gender_submission.csv')\n",
    "\n",
    "\t#prep dataframes\n",
    "\tencoder = ce.one_hot.OneHotEncoder()\n",
    "\ttrain_df = encoder.fit_transform(train_df)\n",
    "\ttest_df = encoder.transform(test_df)\n",
    "\t\n",
    "\t#train model\n",
    "\tclassifier=KNeighborsClassifier()\n",
    "\tclassifier.fit(train_df,train_ans_df)\n",
    "\tpredictions=classifier.predict(test_df)\n",
    "\n",
    "\t#test model\n",
    "\ttruth = test_ans_df['Survived'].to_numpy()\n",
    "\tprint(accuracy_score(truth,predictions))\n",
    "\n",
    "print(\"Based on Class:\")\n",
    "run_ml(['Pclass'])\n",
    "print(\"Based on Sex:\")\n",
    "run_ml(['Sex'])\n",
    "print(\"Based on Class and Sex:\")\n",
    "run_ml(['Pclass','Sex'])\n"
   ]
  },
  {
   "cell_type": "code",
   "execution_count": null,
   "metadata": {},
   "outputs": [],
   "source": []
  }
 ],
 "metadata": {
  "kernelspec": {
   "display_name": "Python 3",
   "language": "python",
   "name": "python3"
  },
  "language_info": {
   "codemirror_mode": {
    "name": "ipython",
    "version": 3
   },
   "file_extension": ".py",
   "mimetype": "text/x-python",
   "name": "python",
   "nbconvert_exporter": "python",
   "pygments_lexer": "ipython3",
   "version": "3.7.3"
  }
 },
 "nbformat": 4,
 "nbformat_minor": 2
}
